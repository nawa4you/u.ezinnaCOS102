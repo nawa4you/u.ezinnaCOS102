{
 "cells": [
  {
   "cell_type": "code",
   "execution_count": 19,
   "metadata": {},
   "outputs": [
    {
     "name": "stdout",
     "output_type": "stream",
     "text": [
      "Name:  Daniel \n",
      "Employe:  False\n",
      "\n",
      "Name:  hh \n",
      "Employe:  True\n"
     ]
    }
   ],
   "source": [
    "class Person(object):\n",
    "    def __init__(self, name):\n",
    "        self.name = name\n",
    "        \n",
    "    def getName(self):\n",
    "        return self.name\n",
    "    def isEmployed(self):\n",
    "        return False\n",
    "    \n",
    "class Employee(Person):\n",
    "\n",
    "    def isEmployed(self):\n",
    "        return  True\n",
    "    \n",
    "emp = Person(\"Daniel\")\n",
    "emp2 = Employee(input(\"Whats your name: \"))\n",
    "print(\"Name: \",emp.getName(), \"\\nEmploye: \",emp.isEmployed())\n",
    "print(\"\\nName: \",emp2.getName(), \"\\nEmploye: \",emp2.isEmployed())\n",
    "\n",
    "        "
   ]
  }
 ],
 "metadata": {
  "kernelspec": {
   "display_name": "Python 3",
   "language": "python",
   "name": "python3"
  },
  "language_info": {
   "codemirror_mode": {
    "name": "ipython",
    "version": 3
   },
   "file_extension": ".py",
   "mimetype": "text/x-python",
   "name": "python",
   "nbconvert_exporter": "python",
   "pygments_lexer": "ipython3",
   "version": "3.11.9"
  }
 },
 "nbformat": 4,
 "nbformat_minor": 2
}
