{
 "cells": [
  {
   "cell_type": "code",
   "execution_count": 2,
   "metadata": {},
   "outputs": [
    {
     "name": "stderr",
     "output_type": "stream",
     "text": [
      "Exception in Tkinter callback\n",
      "Traceback (most recent call last):\n",
      "  File \"C:\\Program Files\\WindowsApps\\PythonSoftwareFoundation.Python.3.11_3.11.2544.0_x64__qbz5n2kfra8p0\\Lib\\tkinter\\__init__.py\", line 1967, in __call__\n",
      "    return self.func(*args)\n",
      "           ^^^^^^^^^^^^^^^^\n",
      "  File \"C:\\Users\\itzud\\AppData\\Local\\Temp\\ipykernel_38648\\2049539674.py\", line 27, in submit\n",
      "    welcomeMessage(username)\n",
      "  File \"C:\\Users\\itzud\\AppData\\Local\\Temp\\ipykernel_38648\\2049539674.py\", line 14, in welcomeMessage\n",
      "    csv_display(\"GIG-logistics.csv\")\n",
      "  File \"C:\\Users\\itzud\\AppData\\Local\\Temp\\ipykernel_38648\\2049539674.py\", line 44, in csv_display\n",
      "    for row in csv_reader:\n",
      "ValueError: I/O operation on closed file.\n"
     ]
    },
    {
     "ename": "KeyboardInterrupt",
     "evalue": "",
     "output_type": "error",
     "traceback": [
      "\u001b[1;31m---------------------------------------------------------------------------\u001b[0m",
      "\u001b[1;31mKeyboardInterrupt\u001b[0m                         Traceback (most recent call last)",
      "Cell \u001b[1;32mIn[2], line 70\u001b[0m\n\u001b[0;32m     66\u001b[0m submit_button \u001b[38;5;241m=\u001b[39m tk\u001b[38;5;241m.\u001b[39mButton(root,text\u001b[38;5;241m=\u001b[39m\u001b[38;5;124m\"\u001b[39m\u001b[38;5;124mSubmit\u001b[39m\u001b[38;5;124m\"\u001b[39m,command \u001b[38;5;241m=\u001b[39m submit)\n\u001b[0;32m     67\u001b[0m submit_button\u001b[38;5;241m.\u001b[39mpack()\n\u001b[1;32m---> 70\u001b[0m \u001b[43mroot\u001b[49m\u001b[38;5;241;43m.\u001b[39;49m\u001b[43mmainloop\u001b[49m\u001b[43m(\u001b[49m\u001b[43m)\u001b[49m\n",
      "File \u001b[1;32mC:\\Program Files\\WindowsApps\\PythonSoftwareFoundation.Python.3.11_3.11.2544.0_x64__qbz5n2kfra8p0\\Lib\\tkinter\\__init__.py:1504\u001b[0m, in \u001b[0;36mMisc.mainloop\u001b[1;34m(self, n)\u001b[0m\n\u001b[0;32m   1502\u001b[0m \u001b[38;5;28;01mdef\u001b[39;00m \u001b[38;5;21mmainloop\u001b[39m(\u001b[38;5;28mself\u001b[39m, n\u001b[38;5;241m=\u001b[39m\u001b[38;5;241m0\u001b[39m):\n\u001b[0;32m   1503\u001b[0m \u001b[38;5;250m    \u001b[39m\u001b[38;5;124;03m\"\"\"Call the mainloop of Tk.\"\"\"\u001b[39;00m\n\u001b[1;32m-> 1504\u001b[0m     \u001b[38;5;28;43mself\u001b[39;49m\u001b[38;5;241;43m.\u001b[39;49m\u001b[43mtk\u001b[49m\u001b[38;5;241;43m.\u001b[39;49m\u001b[43mmainloop\u001b[49m\u001b[43m(\u001b[49m\u001b[43mn\u001b[49m\u001b[43m)\u001b[49m\n",
      "\u001b[1;31mKeyboardInterrupt\u001b[0m: "
     ]
    }
   ],
   "source": [
    "import tkinter as tk\n",
    "from tkinter import messagebox\n",
    "from PIL import Image, ImageTk\n",
    "import csv\n",
    "\n",
    "def welcomeMessage(username):\n",
    "    window = tk.Toplevel(root)\n",
    "    window.title(\"GIG Logistics\")\n",
    "    window.geometry(\"1000x1000\")\n",
    "    \n",
    "    label_1 = tk.Label(window, text=f\"Welcome back {username}!\\n\")\n",
    "    label_1.pack()\n",
    "    \n",
    "    csv_display(\"GIG-logistics.csv\")\n",
    "    \n",
    "    \n",
    "def submit():\n",
    "    username = username_entry.get()\n",
    "    dept = int(dept_entry.get())\n",
    "    filename = 'GIG-logistics.csv'\n",
    "    \n",
    "    with open(filename, 'r') as csvfile:\n",
    "        csv_reader = csv.reader(csvfile)\n",
    "        #username column\n",
    "        for row in csv_reader:\n",
    "            if (row[1] == username or row[2] == username) and dept > 0 and dept < 5:\n",
    "                welcomeMessage(username)\n",
    "            else:\n",
    "                messagebox.showerror(\"Login error\", \"There is an error, Please Check username or Dept(input department as number)\")\n",
    "                return\n",
    "\n",
    "def csv_display(filename):\n",
    "    #open in read mode:\n",
    "    with open(filename, 'r') as csvfile:\n",
    "        csv_reader = csv.reader(csvfile)\n",
    "        \n",
    "        \n",
    "    root = tk.Tk()\n",
    "    root.title(\"CSV data viewer\")\n",
    "    \n",
    "    textbox = tk.Text(root)\n",
    "    textbox.pack(fill=tk.BOTH, expand=True)\n",
    "    \n",
    "    for row in csv_reader:\n",
    "        textbox.insert(tk.End, ', '.join(row)+ '\\n')\n",
    "        \n",
    "    root.mainloop()\n",
    "    return\n",
    "\n",
    "# login \n",
    "root = tk.Tk()\n",
    "root.title(\"Login\")\n",
    "root.geometry(\"500x500\") \n",
    "\n",
    "username_label = tk.Label(root,text=\"Username: \")\n",
    "username_label.pack()\n",
    "username_entry = tk.Entry(root)\n",
    "username_entry.pack()\n",
    "\n",
    "dept_label = tk.Label(root, text=\"Enter Department (Number): \\n 1) Logistics 2) Accounting 3) Delivery 4) Administration\")\n",
    "dept_label.pack()\n",
    "dept_entry = tk.Entry(root)\n",
    "dept_entry.pack()\n",
    "\n",
    "# submit\n",
    "submit_button = tk.Button(root,text=\"Submit\",command = submit)\n",
    "submit_button.pack()\n",
    "\n",
    "\n",
    "root.mainloop()\n"
   ]
  }
 ],
 "metadata": {
  "kernelspec": {
   "display_name": "Python 3",
   "language": "python",
   "name": "python3"
  },
  "language_info": {
   "codemirror_mode": {
    "name": "ipython",
    "version": 3
   },
   "file_extension": ".py",
   "mimetype": "text/x-python",
   "name": "python",
   "nbconvert_exporter": "python",
   "pygments_lexer": "ipython3",
   "version": "3.11.9"
  }
 },
 "nbformat": 4,
 "nbformat_minor": 2
}
