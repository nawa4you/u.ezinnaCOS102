{
 "cells": [
  {
   "cell_type": "code",
   "execution_count": 1,
   "metadata": {},
   "outputs": [
    {
     "name": "stdout",
     "output_type": "stream",
     "text": [
      "This is a defined function\n",
      "Again!!\n"
     ]
    }
   ],
   "source": [
    "def printme(str):\n",
    "    #this is a priunt function\n",
    "    print (str)\n",
    "    return;\n",
    "\n",
    "printme(\"This is a defined function\")\n",
    "printme(\"Again!!\")"
   ]
  },
  {
   "cell_type": "code",
   "execution_count": 3,
   "metadata": {},
   "outputs": [
    {
     "name": "stdout",
     "output_type": "stream",
     "text": [
      "Values inside the function:  [10, 20, 30, [1, 2, 3, 4]]\n",
      "Values outside the function:  [10, 20, 30, [1, 2, 3, 4]]\n"
     ]
    }
   ],
   "source": [
    "def changename(mylist):\n",
    "    #changes a passed list\n",
    "    mylist.append([1,2,3,4])\n",
    "    print(\"Values inside the function: \", mylist)\n",
    "    return\n",
    "mylist = [10, 20,30]    \n",
    "changename(mylist)\n",
    "print(\"Values outside the function: \", mylist)\n"
   ]
  },
  {
   "cell_type": "code",
   "execution_count": null,
   "metadata": {},
   "outputs": [],
   "source": [
    "def changename(mylist):\n",
    "    #changes a passed list\n",
    "    mylist = [1,2,3,4]\n",
    "    print(\"Values inside the function: \", mylist)\n",
    "    return\n",
    "mylist = [10, 20,30]    \n",
    "changename(mylist)\n",
    "print(\"Values outside the function: \", mylist)\n"
   ]
  },
  {
   "cell_type": "code",
   "execution_count": 5,
   "metadata": {},
   "outputs": [
    {
     "ename": "TypeError",
     "evalue": "printme() missing 1 required positional argument: 'str'",
     "output_type": "error",
     "traceback": [
      "\u001b[1;31m---------------------------------------------------------------------------\u001b[0m",
      "\u001b[1;31mTypeError\u001b[0m                                 Traceback (most recent call last)",
      "Cell \u001b[1;32mIn[5], line 5\u001b[0m\n\u001b[0;32m      2\u001b[0m     \u001b[38;5;28mprint\u001b[39m(\u001b[38;5;28mstr\u001b[39m);\n\u001b[0;32m      3\u001b[0m     \u001b[38;5;28;01mreturn\u001b[39;00m;\n\u001b[1;32m----> 5\u001b[0m \u001b[43mprintme\u001b[49m\u001b[43m(\u001b[49m\u001b[43m)\u001b[49m;\n",
      "\u001b[1;31mTypeError\u001b[0m: printme() missing 1 required positional argument: 'str'"
     ]
    }
   ],
   "source": [
    "def printme(str):\n",
    "    print(str);\n",
    "    return;\n",
    "\n",
    "printme();"
   ]
  },
  {
   "cell_type": "code",
   "execution_count": 6,
   "metadata": {},
   "outputs": [
    {
     "name": "stdout",
     "output_type": "stream",
     "text": [
      "My String\n"
     ]
    }
   ],
   "source": [
    "def printme(str):\n",
    "    print(str)\n",
    "    return;\n",
    "printme(str = \"My String\")"
   ]
  },
  {
   "cell_type": "code",
   "execution_count": 7,
   "metadata": {},
   "outputs": [
    {
     "name": "stdout",
     "output_type": "stream",
     "text": [
      "Name:  miki\n",
      "Age:  50\n"
     ]
    }
   ],
   "source": [
    "def printinfo(name, age):\n",
    "    \n",
    "    print(\"Name: \", name)\n",
    "    print(\"Age: \", age)\n",
    "    return;\n",
    "printinfo(age=50,name=\"miki\")"
   ]
  },
  {
   "cell_type": "code",
   "execution_count": 8,
   "metadata": {},
   "outputs": [
    {
     "name": "stdout",
     "output_type": "stream",
     "text": [
      "Name:  miki\n",
      "Age:  50\n",
      "Name:  miki\n",
      "Age:  35\n"
     ]
    }
   ],
   "source": [
    "def printinfo(name, age=35):\n",
    "    \n",
    "    print(\"Name: \", name)\n",
    "    print(\"Age: \", age)\n",
    "    return;\n",
    "printinfo(age=50,name=\"miki\")\n",
    "printinfo(name=\"miki\")\n"
   ]
  },
  {
   "cell_type": "code",
   "execution_count": 16,
   "metadata": {},
   "outputs": [
    {
     "name": "stdout",
     "output_type": "stream",
     "text": [
      "Output is: \n",
      "10\n",
      "Output is: \n",
      "70\n",
      "60\n"
     ]
    }
   ],
   "source": [
    "def printinfo(arg1, *vartuple):\n",
    "    #This is test\n",
    "    print(\"Output is: \")\n",
    "    print(arg1)\n",
    "    for var in vartuple:\n",
    "        print(var)\n",
    "        return;\n",
    "printinfo(10)\n",
    "printinfo(70, 60,50)\n"
   ]
  },
  {
   "cell_type": "code",
   "execution_count": 16,
   "metadata": {},
   "outputs": [
    {
     "name": "stdout",
     "output_type": "stream",
     "text": [
      "Inside the function the sum is:  39\n",
      "Outside the function the sum is:  50\n"
     ]
    }
   ],
   "source": [
    "total = 50\n",
    "def sum(arg1, arg2):\n",
    "    total = arg1 + arg2\n",
    "    print(\"Inside the function the sum is: \", total)\n",
    "    return \n",
    "sum(10,29)\n",
    "print(\"Outside the function the sum is: \", total)\n"
   ]
  },
  {
   "cell_type": "code",
   "execution_count": 24,
   "metadata": {},
   "outputs": [
    {
     "name": "stdout",
     "output_type": "stream",
     "text": [
      "Laway Edward Tolu Tina\n",
      "mary\n"
     ]
    }
   ],
   "source": [
    "def swap(x,y):\n",
    "    global a\n",
    "    a = \"Laway\"\n",
    "    x,y = y,x\n",
    "    b = \"Edward\"\n",
    "    c = \"Lois\"\n",
    "    print(a,b,x,y)\n",
    "    a = \"mary\"\n",
    "    return\n",
    "swap(\"Tina\", \"Tolu\")\n",
    "print(a)\n",
    "    "
   ]
  },
  {
   "cell_type": "code",
   "execution_count": 3,
   "metadata": {},
   "outputs": [],
   "source": [
    "import tkinter as tk \n",
    "\n",
    "\n",
    "def button_click():\n",
    "    #print(\"Button clicked\")\n",
    "    \n",
    "    messagebox.showinfo(\"Info\", \"Welcome to COS102 GUI app!\\n\")\n",
    "    \n",
    "    result = messagebox.askyesno(\"Confirmation\", \"Do you want to continue?\")\n",
    "    return\n",
    "\n",
    "#creating a main window\n",
    "\n",
    "root = tk.Tk()\n",
    "root.title(\"Home Page\")\n",
    "root.geometry(\"300x100\")\n",
    "\n",
    "#add a label widgegt\n",
    "label = tk.Label(root, text = \"Hello friend \\n\")\n",
    "label.pack()\n",
    "\n",
    "\n",
    "#add a button widget\n",
    "button = tk.Button(root, text = \"Click Me\", command = button_click)\n",
    "button.pack()\n",
    "\n",
    "#styling the button widget\n",
    "button.config(fg=\"red\",bg=\"yellow\")\n",
    "\n",
    "# start event loop\n",
    "root.mainloop()\n",
    "\n"
   ]
  },
  {
   "cell_type": "code",
   "execution_count": 17,
   "metadata": {},
   "outputs": [],
   "source": [
    "import tkinter as tk\n",
    "from tkinter import messagebox\n",
    "from PIL import Image, ImageTk\n",
    "\n",
    "def welcomeMessage(username):\n",
    "    #crete window\n",
    "    window = tk.Toplevel(root)\n",
    "    window.title(\"Admin Box\")\n",
    "    window.geometry(\"500x200\")\n",
    "    \n",
    "    \n",
    "    label_1 = tk.Label(window,text=f\"Welcome {username}\\n\")\n",
    "    label_1.pack()\n",
    "    label_2 = tk.Label(window,text=\"This is python GUI with tkinter\")\n",
    "    label_2.pack()\n",
    "    \n",
    "    #run the loop\n",
    "    root.mainloop()\n",
    "    \n",
    "def submit(): \n",
    "    username = username_entry.get()\n",
    "    password = password_entry.get()\n",
    "    \n",
    "    if username ==\"Mary\" and password == \"cos102\":\n",
    "        welcomeMessage(username)\n",
    "    else:\n",
    "        messagebox.showerror(\"Login\",\"Invalid username or password\",)\n",
    "        \n",
    "# main window create\n",
    "root = tk.Tk()\n",
    "root.title(\"Login Form\")\n",
    "root.geometry(\"500x200\")\n",
    "\n",
    "\n",
    "# create username label and entry\n",
    "username_label = tk.Label(root,text=\"Username:\")\n",
    "username_label.pack()\n",
    "username_entry = tk.Entry(root)\n",
    "username_entry.pack()\n",
    "\n",
    "\n",
    "\n",
    "password_label = tk.Label(root,text=\"Password:\")\n",
    "password_label.pack()\n",
    "password_entry = tk.Entry(root,show=\"*\")\n",
    "password_entry.pack()\n",
    "\n",
    "# create submit button\n",
    "submit_button = tk.Button(root,text=\"Submit\",command = submit)\n",
    "submit_button.pack()\n",
    "\n",
    "root.mainloop()\n",
    "    \n",
    "\n",
    "    \n",
    "        \n",
    "    "
   ]
  },
  {
   "cell_type": "code",
   "execution_count": null,
   "metadata": {},
   "outputs": [],
   "source": []
  },
  {
   "cell_type": "code",
   "execution_count": null,
   "metadata": {},
   "outputs": [],
   "source": []
  },
  {
   "cell_type": "code",
   "execution_count": null,
   "metadata": {},
   "outputs": [],
   "source": []
  }
 ],
 "metadata": {
  "kernelspec": {
   "display_name": "Python 3",
   "language": "python",
   "name": "python3"
  },
  "language_info": {
   "codemirror_mode": {
    "name": "ipython",
    "version": 3
   },
   "file_extension": ".py",
   "mimetype": "text/x-python",
   "name": "python",
   "nbconvert_exporter": "python",
   "pygments_lexer": "ipython3",
   "version": "3.11.9"
  }
 },
 "nbformat": 4,
 "nbformat_minor": 2
}
