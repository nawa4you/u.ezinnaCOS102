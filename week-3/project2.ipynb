{
 "cells": [
  {
   "cell_type": "code",
   "execution_count": 9,
   "metadata": {},
   "outputs": [
    {
     "name": "stdout",
     "output_type": "stream",
     "text": [
      "**CALCULATOR TO FIND CUBIC, QUADRATIC OR QUARTIC EQUATION**\n"
     ]
    }
   ],
   "source": [
    "import math \n",
    "# program to find cubic, quartic or quadratic eqn\n",
    "\n",
    "print(\"**CALCULATOR TO FIND CUBIC, QUADRATIC OR QUARTIC EQUATION**\")\n",
    "choice = input(\"Which would you want to perform: \\n1)Cubic\\n2)Quadratic\\n3)Quartic\\n(USE THE NUMBERS AS INPUT)\\n\")\n",
    "\n",
    "if choice == 2:\n",
    "    a = float(input(\"a?\"))\n",
    "    b = float(input(\"b?\"))\n",
    "    c = float(input(\"c?\"))\n",
    "\n",
    "    z = ((b ** 2) - (4 * a * c))\n",
    "    x = (-1 * b) + z  \n",
    "    r1 = x / (2 * a) \n",
    "\n",
    "    v = (-1 * b) - z\n",
    "    r2 = v / (2 * a) \n",
    "\n",
    "    print(f\"The roots of the quadratic eqn: X = {r1}, Y = {r2}\")\n",
    "\n",
    "\n",
    "    \n"
   ]
  }
 ],
 "metadata": {
  "kernelspec": {
   "display_name": "Python 3",
   "language": "python",
   "name": "python3"
  },
  "language_info": {
   "codemirror_mode": {
    "name": "ipython",
    "version": 3
   },
   "file_extension": ".py",
   "mimetype": "text/x-python",
   "name": "python",
   "nbconvert_exporter": "python",
   "pygments_lexer": "ipython3",
   "version": "3.11.8"
  }
 },
 "nbformat": 4,
 "nbformat_minor": 2
}
