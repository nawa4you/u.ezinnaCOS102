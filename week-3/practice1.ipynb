{
 "cells": [
  {
   "cell_type": "code",
   "execution_count": null,
   "metadata": {
    "tags": [
     "1"
    ]
   },
   "outputs": [],
   "source": [
    "str = input(\"enter your state of origin\")\n",
    "\n",
    "print(\"your state is: \", str)\n",
    "print(\"your first char is : \", str[0])\n",
    "print(\"your 3rd to 5th char is : \", str[2:6])\n",
    "print(\"your 3rd upwards char is : \", str[2:])\n",
    "print(\"your state of origin two times \", str * 2)\n",
    "\n",
    "\n"
   ]
  },
  {
   "cell_type": "code",
   "execution_count": 10,
   "metadata": {
    "tags": [
     "2"
    ]
   },
   "outputs": [
    {
     "name": "stdout",
     "output_type": "stream",
     "text": [
      "The energy equivalent to 22.0kg of weight is 1.9772613932209987e+18 joules \n"
     ]
    }
   ],
   "source": [
    "# input from user\n",
    "m = float(input(\"Enter mass in kilogram: \"))\n",
    "\n",
    "#constant value for the speed of light in m/s\n",
    "c = 299792458\n",
    "\n",
    "#calculate energy using eqn\n",
    "energy = m * c ** 2\n",
    "\n",
    "#display result\n",
    "print(f\"The energy equivalent to {m}kg of weight is {energy} joules \")"
   ]
  },
  {
   "cell_type": "code",
   "execution_count": 2,
   "metadata": {},
   "outputs": [
    {
     "name": "stdout",
     "output_type": "stream",
     "text": [
      "['Anaconda', 786, 2.23, 'Jupyter', 70.2]\n",
      "Anaconda\n",
      "[786, 2.23]\n",
      "[2.23, 'Jupyter', 70.2]\n",
      "[321, 'Python', 321, 'Python']\n",
      "['Anaconda', 786, 2.23, 'Jupyter', 70.2, 321, 'Python']\n"
     ]
    }
   ],
   "source": [
    "list = ['Anaconda', 786, 2.23, 'Jupyter', 70.2]\n",
    "shortlist = [321, 'Python']\n",
    "\n",
    "\n",
    "print(list)\n",
    "print(list[0])  \n",
    "print(list[1:3])  \n",
    "print(list[2:])  \n",
    "print(shortlist * 2)  \n",
    "print(list + shortlist)  \n"
   ]
  },
  {
   "cell_type": "code",
   "execution_count": 1,
   "metadata": {},
   "outputs": [
    {
     "name": "stdout",
     "output_type": "stream",
     "text": [
      "('Ekity', 750, 'Oshogbo', 250, 'Akure', 500)\n",
      "500\n",
      "('Oshogbo', 250)\n",
      "(250, 'Akure', 500)\n"
     ]
    }
   ],
   "source": [
    "tuple = (\"Ekity\", 750, 'Oshogbo', 250, \"Akure\", 500)\n",
    "s_tuple = (\"Abeokuta\", 300, \"Ogbomoso\")\n",
    "\n",
    "# Print the complete tuple\n",
    "print(tuple)\n",
    "\n",
    "# Print last element of tuple\n",
    "print(tuple[-1])\n",
    "\n",
    "# Print elements of the tuple starting from 2nd - 3rd\n",
    "print(tuple[2:4])\n",
    "\n",
    "#Print elements of the tuple starting from the third element\n",
    "print(tuple[3:])\n",
    "\n",
    "#Print the context of the tuple twice\n",
    "print(s_tuple * 3)\n",
    "\n",
    "#prints concatenated tuples\n"
   ]
  },
  {
   "cell_type": "code",
   "execution_count": 5,
   "metadata": {},
   "outputs": [
    {
     "name": "stdout",
     "output_type": "stream",
     "text": [
      "False\n",
      "False\n",
      "False\n",
      "False\n",
      "True\n"
     ]
    }
   ],
   "source": [
    "game_1 = 2\n",
    "game_2 = 4\n",
    "print(bool(game_1 == game_2))\n",
    "#or\n",
    "print(game_1 == game_2)\n",
    "\n",
    "#returns falls as val is none\n",
    "val = None\n",
    "print(bool(val))\n",
    "\n",
    "#Returns false as num as empty sequence\n",
    "num = ()\n",
    "print(bool(num))\n",
    "\n",
    "#returns true as age is boolean\n",
    "age = True\n",
    "print(bool(age))\n",
    "\n"
   ]
  },
  {
   "cell_type": "code",
   "execution_count": 6,
   "metadata": {},
   "outputs": [
    {
     "name": "stdout",
     "output_type": "stream",
     "text": [
      "Grade = 70\n",
      "Gpa = 4.9\n",
      "Cgpa = 4\n"
     ]
    }
   ],
   "source": [
    "#convert to int\n",
    "\n",
    "grade = int(70)\n",
    "gpa = (4.9)\n",
    "cgpa = int(\"4\")\n",
    "\n",
    "print(f\"Grade = {grade}\")\n",
    "print(f\"Gpa = {gpa}\")\n",
    "print(f\"Cgpa = {cgpa}\")"
   ]
  },
  {
   "cell_type": "code",
   "execution_count": 7,
   "metadata": {},
   "outputs": [
    {
     "name": "stdout",
     "output_type": "stream",
     "text": [
      "Grade = 97.0\n",
      "Gpa = 5.0\n",
      "Cgpa = 4.7\n"
     ]
    }
   ],
   "source": [
    "#convert to float\n",
    "grade = float(97)\n",
    "gpa = float(5)\n",
    "cgpa = float(\"4.7\")\n",
    "\n",
    "print(f\"Grade = {grade}\")\n",
    "print(f\"Gpa = {gpa}\")\n",
    "print(f\"Cgpa = {cgpa}\")\n"
   ]
  }
 ],
 "metadata": {
  "kernelspec": {
   "display_name": "Python 3",
   "language": "python",
   "name": "python3"
  },
  "language_info": {
   "codemirror_mode": {
    "name": "ipython",
    "version": 3
   },
   "file_extension": ".py",
   "mimetype": "text/x-python",
   "name": "python",
   "nbconvert_exporter": "python",
   "pygments_lexer": "ipython3",
   "version": "3.11.8"
  }
 },
 "nbformat": 4,
 "nbformat_minor": 2
}
