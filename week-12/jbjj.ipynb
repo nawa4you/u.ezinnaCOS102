{
 "cells": [
  {
   "cell_type": "code",
   "execution_count": 14,
   "metadata": {},
   "outputs": [
    {
     "ename": "SyntaxError",
     "evalue": "invalid syntax (54614042.py, line 12)",
     "output_type": "error",
     "traceback": [
      "\u001b[1;36m  Cell \u001b[1;32mIn[14], line 12\u001b[1;36m\u001b[0m\n\u001b[1;33m    return self.club_name = \"Fc Cirok\"\u001b[0m\n\u001b[1;37m                          ^\u001b[0m\n\u001b[1;31mSyntaxError\u001b[0m\u001b[1;31m:\u001b[0m invalid syntax\n"
     ]
    }
   ],
   "source": [
    "from abc import ABC, abstractmethod\n",
    "class Fan_Page(ABC):\n",
    "    def final_team(self, team, club_name=\"NaN\"):\n",
    "        print(f\"Welcome to {self.club_name}!!\")\n",
    "    @abstractmethod\n",
    "    def club(self, team):\n",
    "        pass\n",
    "    \n",
    "class FC_Cirok(Fan_Page):\n",
    "    def club(self, team):\n",
    "        if team == 1:\n",
    "            return self.club_name = \"Fc Cirok\"\n",
    "        else:\n",
    "            return\n",
    "    \n",
    "class Madiba_FC(Fan_Page):\n",
    "    def club(self, team):\n",
    "        if team == 2:\n",
    "            return self.club_name = \"Madiba FC\"\n",
    "        else:\n",
    "            return\n",
    "    \n",
    "    \n",
    "class Blue_jay_FC(Fan_Page):\n",
    "    def club(self, team):\n",
    "        if team == 3:\n",
    "            return self.club_name = \"Blue Jay Fc\"\n",
    "        else:\n",
    "            return\n",
    "        \n",
    "    \n",
    "class TSG_Walker(Fan_Page):\n",
    "    def club(self, team):\n",
    "        if team == 4:\n",
    "            return self.club_name = \"TSG Walker\"\n",
    "        else:\n",
    "            return\n",
    "\n",
    "\n",
    "\n",
    "\n",
    "    team = input(\"Please select your club (Using Numbers Only):\\n1)Fc Cirok\\n2)Madiba FC\\n3)Blue Jay FC\\n4)TSG Walker\")\n",
    "    aa = Madiba_FC()\n",
    "    aa.club(team)\n",
    "    bb = FC_Cirok()\n",
    "    bb.club(team)\n",
    "    cc = Blue_jay_FC()\n",
    "    cc.club(team)\n",
    "    dd = TSG_Walker()\n",
    "    aa.club(team)\n",
    "    aa.final_team(team)\n",
    "    bb.final_team(team)\n",
    "    cc.final_team(team)\n",
    "    dd.final_team(team)\n",
    "    \n",
    "\n",
    "    "
   ]
  }
 ],
 "metadata": {
  "kernelspec": {
   "display_name": "Python 3",
   "language": "python",
   "name": "python3"
  },
  "language_info": {
   "codemirror_mode": {
    "name": "ipython",
    "version": 3
   },
   "file_extension": ".py",
   "mimetype": "text/x-python",
   "name": "python",
   "nbconvert_exporter": "python",
   "pygments_lexer": "ipython3",
   "version": "3.11.9"
  }
 },
 "nbformat": 4,
 "nbformat_minor": 2
}
