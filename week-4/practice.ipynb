{
 "cells": [
  {
   "cell_type": "code",
   "execution_count": 1,
   "metadata": {},
   "outputs": [
    {
     "name": "stdout",
     "output_type": "stream",
     "text": [
      "The name of the first city after swap is aad\n",
      "The name of the second city after swap is daa\n"
     ]
    }
   ],
   "source": [
    "#python prgram to swap two cities\n",
    "\n",
    "\n",
    "city_1 = input('Enter name of city 1: ')\n",
    "city_2 = input('Enter name of city 2: ')\n",
    "\n",
    "\n",
    "temp = city_1\n",
    "city_1 = city_2\n",
    "city_2 = temp\n",
    "\n",
    "print(f\"The name of the first city after swap is {city_1}\")\n",
    "print(f\"The name of the second city after swap is {city_2}\")\n",
    "\n"
   ]
  },
  {
   "cell_type": "code",
   "execution_count": null,
   "metadata": {},
   "outputs": [],
   "source": [
    "# Program to check if a number is +ve, -ve or zero\n",
    "\n",
    "num = float(input(Enter a number: ))\n",
    "if num > 0:\n",
    "    print(\"Positive\")\n",
    "    \n",
    "elif num == 0:\n",
    "    print(\"Zero\")\n",
    "    \n",
    "else:\n",
    "    print(\"Negative\")\n",
    "    "
   ]
  },
  {
   "cell_type": "code",
   "execution_count": 2,
   "metadata": {},
   "outputs": [
    {
     "name": "stdout",
     "output_type": "stream",
     "text": [
      "Welcome to the coupe de escriva \n",
      "\n",
      "Madiba:  Chubby Okafo\n",
      "Blue-Jays:  Chris Uweh\n",
      "Cirok:  Alex\n",
      "TSG Walker:  Ikechukwu\n",
      "\n",
      "\n",
      "Madiba:  Chubby Okafo\n",
      "Blue-Jays:  Ola Jeffery\n",
      "Cirok:  Timileyin Jeremy\n",
      "TSG Walker:  Ayomide Ojituku\n"
     ]
    }
   ],
   "source": [
    "#COUPE DE ESCRIVA\n",
    "\n",
    "print(\"Welcome to the coupe de escriva \\n\")\n",
    "\n",
    "captain = {'Madiba: ' : 'Chubby Okafo', 'Blue-Jays: ' : 'Chris Uweh', 'Cirok: ' : 'Alex', 'TSG Walker: ' : 'Ikechukwu'}\n",
    "\n",
    "goalkeepers = {'Madiba: ' : 'Chubby Okafo', 'Blue-Jays: ' : 'Ola Jeffery', 'Cirok: ' : 'Timileyin Jeremy', 'TSG Walker: ' : 'Ayomide Ojituku'}\n",
    "\n",
    "for pick in captain:\n",
    "    print(pick, captain[pick])\n",
    "    \n",
    "print(\"\\n\")\n",
    "\n",
    "for pick in goalkeepers:\n",
    "    print(pick, goalkeepers[pick])\n"
   ]
  }
 ],
 "metadata": {
  "kernelspec": {
   "display_name": "Python 3",
   "language": "python",
   "name": "python3"
  },
  "language_info": {
   "codemirror_mode": {
    "name": "ipython",
    "version": 3
   },
   "file_extension": ".py",
   "mimetype": "text/x-python",
   "name": "python",
   "nbconvert_exporter": "python",
   "pygments_lexer": "ipython3",
   "version": "3.11.9"
  }
 },
 "nbformat": 4,
 "nbformat_minor": 2
}
