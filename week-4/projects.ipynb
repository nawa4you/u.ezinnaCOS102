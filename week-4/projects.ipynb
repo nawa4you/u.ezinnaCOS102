{
 "cells": [
  {
   "cell_type": "code",
   "execution_count": 65,
   "metadata": {},
   "outputs": [
    {
     "name": "stdout",
     "output_type": "stream",
     "text": [
      "Girls:\n",
      "Name | Age | Height | Score\n",
      "Evelyn | 17 | 5.5 | 80\n",
      "Jessica | 16 | 6.0 | 85\n",
      "Somto | 17 | 5.4 | 70\n",
      "Edith | 18 | 5.9 | 60\n",
      "Liza | 16 | 5.6 | 76\n",
      "Madonna | 18 | 5.5 | 66\n",
      "Waje | 17 | 6.1 | 87\n",
      "Tola | 20 | 6.0 | 95\n",
      "Aisha | 19 | 5.7 | 50\n",
      "Latifa | 17 | 5.5 | 49\n",
      "\n",
      "\n",
      "Boys: \n",
      "Name | Age | Height | Score\n",
      "Chinedu | 19 | 5.7 | 74\n",
      "Liam | 16 | 5.9 | 87\n",
      "wale | 18 | 5.8 | 75\n",
      "Gbenga | 17 | 6.1 | 68\n",
      "Abiola | 20 | 5.9 | 66\n",
      "Kola | 19 | 5.5 | 78\n",
      "Kunle | 16 | 6.1 | 87\n",
      "George | 18 | 5.4 | 98\n",
      "Thomas | 17 | 5.8 | 54\n",
      "Wesley | 19 | 5.7 | 60\n"
     ]
    }
   ],
   "source": [
    "#input the names and the att\n",
    "#data for girls\n",
    "names_girls =['Evelyn', 'Jessica', 'Somto', 'Edith', 'Liza', 'Madonna', 'Waje', 'Tola', 'Aisha', 'Latifa']\n",
    "age_girls = ['17', '16', '17','18','16','18','17','20','19','17']\n",
    "height_girls = ['5.5','6.0','5.4','5.9','5.6','5.5','6.1','6.0','5.7','5.5' ]\n",
    "scores_girls = ['80','85','70','60','76','66','87','95','50','49']\n",
    "\n",
    "#Data for boys\n",
    "names_boys =['Chinedu', 'Liam', 'wale', 'Gbenga', 'Abiola', 'Kola', 'Kunle', 'George', 'Thomas', 'Wesley']\n",
    "age_boys = ['19', '16', '18','17','20','19','16','18','17','19']\n",
    "height_boys = ['5.7','5.9','5.8','6.1','5.9','5.5','6.1','5.4','5.8','5.7' ]\n",
    "scores_boys = ['74','87','75','68', '66','78','87','98','54','60']\n",
    "\n",
    "print(\"Girls:\" )\n",
    "print(\"Name | Age | Height | Score\")\n",
    "for p in range(len(names_girls)):\n",
    "    print(f\"{names_girls[p]} | {age_girls[p]} | {height_girls[p]} | {scores_girls[p]}\")\n",
    "    \n",
    "print(\"\\n\")    \n",
    "\n",
    "print(\"Boys: \")   \n",
    "print(\"Name | Age | Height | Score\")\n",
    "for d in range(len(names_boys)):\n",
    "    \n",
    "    print(f\"{names_boys[d]} | {age_boys[d]} | {height_boys[d]} | {scores_boys[d]}\")"
   ]
  },
  {
   "cell_type": "code",
   "execution_count": 66,
   "metadata": {},
   "outputs": [
    {
     "name": "stdout",
     "output_type": "stream",
     "text": [
      "***Welcome to IZIFIN TECH***\n",
      "Your Annual Tax Revenue is: N55000\n"
     ]
    }
   ],
   "source": [
    "# print(\"Welcome to IZIFIN TECH.\")\n",
    "\n",
    "# def age_ver():\n",
    "#     age = int(input(\"Please how old are you: \"))\n",
    "#     if age < 18:\n",
    "#         print(\"Underage\")\n",
    "#         start()\n",
    "#     elif age > 100:\n",
    "#         print(\"Overage\")\n",
    "#         start()\n",
    "#     # exp = input(\"Please how many years of experience you got: \")\n",
    "    \n",
    "# age_ver()\n",
    "\n",
    "# def exp():\n",
    "#     expy = int(input(\"Please input your years of experience: \"))\n",
    "#     return expy\n",
    "# exp()\n",
    "\n",
    "# # if expy > 25 and age >= 55:\n",
    "# #     tax == 5600000\n",
    "    \n",
    "# # elif expy > 20 and age >= 45:\n",
    "# #     tax == 4480000\n",
    "# # elif expy > 10 and age >= 35:\n",
    "# #     tax == 1500000\n",
    "# # elif expy <= 10 and age < 35:\n",
    "# #     tax == 55000\n",
    "print(\"***Welcome to IZIFIN TECH***\")\n",
    "\n",
    "age = int(input(\"Please how old are you: \"))\n",
    "if age < 18:\n",
    "    print(\"Underage\")\n",
    "\n",
    "elif age > 100:\n",
    "    print(\"Overage\")\n",
    "\n",
    "\n",
    "\n",
    "expy = int(input(\"Please input your years of experience: \"))\n",
    "\n",
    "\n",
    "if expy > 25 and age >= 55:\n",
    "    tax = 5600000\n",
    "elif expy > 20 and age >= 45:\n",
    "    tax = 4480000\n",
    "elif expy > 10 and age >= 35:\n",
    "    tax = 1500000\n",
    "else:\n",
    "    tax = 55000  # Default tax\n",
    "\n",
    "print(f\"Your Annual Tax Revenue is: N{tax}\")\n",
    "\n",
    "    "
   ]
  }
 ],
 "metadata": {
  "kernelspec": {
   "display_name": "Python 3",
   "language": "python",
   "name": "python3"
  },
  "language_info": {
   "codemirror_mode": {
    "name": "ipython",
    "version": 3
   },
   "file_extension": ".py",
   "mimetype": "text/x-python",
   "name": "python",
   "nbconvert_exporter": "python",
   "pygments_lexer": "ipython3",
   "version": "3.11.9"
  }
 },
 "nbformat": 4,
 "nbformat_minor": 2
}
