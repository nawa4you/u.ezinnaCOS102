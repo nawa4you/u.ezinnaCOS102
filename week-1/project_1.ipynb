{
 "cells": [
  {
   "cell_type": "code",
   "execution_count": 4,
   "metadata": {},
   "outputs": [
    {
     "name": "stdout",
     "output_type": "stream",
     "text": [
      "Using formula for A = P(1 + (R/100)T)\n",
      "A =  361.76\n",
      "With input, simple interest =  361.76\n"
     ]
    }
   ],
   "source": [
    "#Ask for user inputs for simple interest\n",
    "print(\"To find simple interest,\")\n",
    "p = float(input(\"whats the principal: \"))\n",
    "r = float(input(\"whats the rate: \"))\n",
    "t = float(input(\"whats the time: \"))\n",
    "\n",
    "#Now to calculate the Simple interest\n",
    "\n",
    "print(\"Using formula for A = P(1 + (R/100)T)\")\n",
    "si = (p * (1 + (r / 100) * t))\n",
    "print(\"A = \", si  )\n"
   ]
  },
  {
   "cell_type": "code",
   "execution_count": 9,
   "metadata": {},
   "outputs": [
    {
     "name": "stdout",
     "output_type": "stream",
     "text": [
      "to find compund interest,\n"
     ]
    },
    {
     "name": "stdout",
     "output_type": "stream",
     "text": [
      "Using formula for A = P(1 + (R/n)^(nt))\n",
      "A =  100000000000100.0\n"
     ]
    }
   ],
   "source": [
    "#formula to find Compoud interest\n",
    "\n",
    "print(\"To find compund interest,\")\n",
    "p = float(input(\"whats the principal: \"))\n",
    "r = float(input(\"whats the rate: \"))\n",
    "t = float(input(\"whats the time: \"))\n",
    "n = float(input(\"How many years?[if months input (months/12)]\"))\n",
    "\n",
    "\n",
    "#Now to calculate the Compound interest\n",
    "\n",
    "print(\"Using formula for A = P(1 + (R/n)^(nt))\")\n",
    "ci = (p * ((1.0 + (r / n)**(t * n))))\n",
    "print(\"A = \", ci  )\n",
    "\n"
   ]
  },
  {
   "cell_type": "code",
   "execution_count": 10,
   "metadata": {},
   "outputs": [
    {
     "name": "stdout",
     "output_type": "stream",
     "text": [
      "To find annuity plan,\n",
      "Using formula for A = PMT x [(1 + (R/n))^nT]/(R/n)\n",
      "A =  2.0625\n"
     ]
    }
   ],
   "source": [
    "#Ask for user inputs for Annuity plan\n",
    "print(\"To find annuity plan,\")\n",
    "p = float(input(\"whats the principal: \"))\n",
    "m = float(input(\"whats the money/month: \"))\n",
    "\n",
    "r = float(input(\"whats the rate: \"))\n",
    "t = float(input(\"whats the time: \"))\n",
    "n = float(input(\"How many years?[if months input (months/12)]\"))\n",
    "\n",
    "#Now to calculate the annuity\n",
    "\n",
    "print(\"Using formula for A = PMT x [(1 + (R/n))^nT]/(R/n)\")\n",
    "an = (p * m * t * (((1.0 + (r / n)**(t * n)) - 1)/(r/n)))\n",
    "print(\"A = \", an  )"
   ]
  }
 ],
 "metadata": {
  "kernelspec": {
   "display_name": "Python 3",
   "language": "python",
   "name": "python3"
  },
  "language_info": {
   "codemirror_mode": {
    "name": "ipython",
    "version": 3
   },
   "file_extension": ".py",
   "mimetype": "text/x-python",
   "name": "python",
   "nbconvert_exporter": "python",
   "pygments_lexer": "ipython3",
   "version": "3.11.8"
  }
 },
 "nbformat": 4,
 "nbformat_minor": 2
}
