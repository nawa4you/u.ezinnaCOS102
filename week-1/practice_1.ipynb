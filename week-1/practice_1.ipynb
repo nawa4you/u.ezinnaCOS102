{
 "cells": [
  {
   "cell_type": "code",
   "execution_count": 1,
   "metadata": {},
   "outputs": [
    {
     "name": "stdout",
     "output_type": "stream",
     "text": [
      "100\n",
      "Data type of var num is,  <class 'int'>\n",
      "34.45\n",
      "Data type of var num is,  <class 'float'>\n",
      "(3+4j)\n",
      "Data type of var num is,  <class 'complex'>\n"
     ]
    }
   ],
   "source": [
    "# Integer number\n",
    "num = 100\n",
    "print(num)\n",
    "print('Data type of var num is, ', type(num))\n",
    "# float number\n",
    "fnum = 34.45\n",
    "print(fnum)\n",
    "print('Data type of var num is, ', type(fnum))\n",
    "#complex number\n",
    "cnum = 3 + 4j\n",
    "print(cnum)\n",
    "print('Data type of var num is, ', type(cnum))"
   ]
  }
 ],
 "metadata": {
  "kernelspec": {
   "display_name": "Python 3",
   "language": "python",
   "name": "python3"
  },
  "language_info": {
   "codemirror_mode": {
    "name": "ipython",
    "version": 3
   },
   "file_extension": ".py",
   "mimetype": "text/x-python",
   "name": "python",
   "nbconvert_exporter": "python",
   "pygments_lexer": "ipython3",
   "version": "3.11.9"
  }
 },
 "nbformat": 4,
 "nbformat_minor": 2
}
