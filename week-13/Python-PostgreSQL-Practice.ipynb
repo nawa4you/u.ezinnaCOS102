{
 "cells": [
  {
   "cell_type": "markdown",
   "metadata": {},
   "source": [
    "# Python - PostgreSQL"
   ]
  },
  {
   "cell_type": "markdown",
   "metadata": {},
   "source": [
    "<ul><li>PostgreSQL can be integrated with Python using psycopg2 module.</li><li>psycopg2 is a PostgreSQL database adapter for the Python programming language.</li><li>psycopg2 was written with the aim of being very small and fast, and stable as a rock.</li><li> You do not need to install this module separately because it is shipped, by default, along with Python version 2.5.x onwards.</li></ul>"
   ]
  },
  {
   "cell_type": "markdown",
   "metadata": {},
   "source": [
    "# Python psycopg2 Module APIs\n",
    "\n",
    "If you do not have it installed on your machine then you can use the command to install it as follows:"
   ]
  },
  {
   "cell_type": "code",
   "execution_count": null,
   "metadata": {},
   "outputs": [],
   "source": [
    "pip install psycopg2"
   ]
  },
  {
   "cell_type": "markdown",
   "metadata": {},
   "source": [
    "If the above command causes an error then use the command:"
   ]
  },
  {
   "cell_type": "code",
   "execution_count": null,
   "metadata": {},
   "outputs": [],
   "source": [
    "pip install psycopg2-binary"
   ]
  },
  {
   "cell_type": "markdown",
   "metadata": {},
   "source": [
    "The following are important psycopg2 module routines:"
   ]
  },
  {
   "cell_type": "markdown",
   "metadata": {},
   "source": [
    "<table border=1 style=\"font-size:15px;\">\n",
    "    <tr>\n",
    "        <td width=200><b>APIs</b></td><td width=800><b>Description</b></td>\n",
    "    </tr>\n",
    "    <tr>\n",
    "        <td>psycopg2.connect()</td><td>This API opens a connection to the PostgreSQL database.</td>\n",
    "    </tr>\n",
    "     <tr>\n",
    "        <td>connection.cursor()</td><td>This routine creates a cursor which will be used throughout of your database programming with Python.</td>\n",
    "    </tr>\n",
    "    <tr>\n",
    "        <td>cursor.execute()</td><td>This routine executes an SQL statement. The SQL statement may be parameterized (i.e., placeholders instead of SQL literals).</td>\n",
    "    </tr>\n",
    "     <tr>\n",
    "        <td>connection.close()</td><td>DescriptionThis method closes the database connection.</td>\n",
    "    </tr>\n",
    "    <tr>\n",
    "        <td>cursor.fetchone()</td><td>This method fetches the next row of a query result set, returning a single sequence, or None when no more data is available.</td>\n",
    "    </tr>\n",
    "     <tr>\n",
    "        <td>cursor.fetchall()</td><td>This routine fetches all (remaining) rows of a query result, returning a list. An empty list is returned when no rows are available.</td>\n",
    "    </tr>\n",
    "    <tr>\n",
    "        <td>psycopg2.connect()</td><td>This API opens a connection to the PostgreSQL database.</td>\n",
    "    </tr>\n",
    "</table>"
   ]
  },
  {
   "cell_type": "markdown",
   "metadata": {},
   "source": [
    "# Connecting to a Database"
   ]
  },
  {
   "cell_type": "code",
   "execution_count": 19,
   "metadata": {},
   "outputs": [
    {
     "name": "stdout",
     "output_type": "stream",
     "text": [
      "Connection to PostgreSQL DB successful\n",
      "PostgreSQL database version: ('PostgreSQL 16.1, compiled by Visual C++ build 1937, 64-bit',)\n"
     ]
    }
   ],
   "source": [
    "import psycopg2\n",
    "\n",
    "# Database connection parameters\n",
    "host = \"localhost\"\n",
    "port = \"5432\"\n",
    "dbname = \"postgres\"\n",
    "user = \"postgres\"\n",
    "password = \"cos101\"\n",
    "\n",
    "# Establish the connection\n",
    "try:\n",
    "    connection = psycopg2.connect(\n",
    "        host=host,\n",
    "        port=port,\n",
    "        dbname=dbname,\n",
    "        user=user,\n",
    "        password=password\n",
    "    )\n",
    "    print(\"Connection to PostgreSQL DB successful\")\n",
    "\n",
    "    # Create a cursor object\n",
    "    cursor = connection.cursor()\n",
    "    \n",
    "\n",
    "    # Execute a SQL query\n",
    "    cursor.execute(\"SELECT version();\")\n",
    "    \n",
    "    # Fetch and print the result of the query\n",
    "    db_version = cursor.fetchone()\n",
    "    print(f\"PostgreSQL database version: {db_version}\")\n",
    "\n",
    "    # Close the cursor and connection\n",
    "    cursor.close()\n",
    "    cursor.close()\n",
    "\n",
    "except Exception as error:\n",
    "    print(f\"Error connecting to PostgreSQL DB: {error}\")\n"
   ]
  },
  {
   "cell_type": "markdown",
   "metadata": {},
   "source": [
    "# Selecting existing Database"
   ]
  },
  {
   "cell_type": "code",
   "execution_count": 35,
   "metadata": {},
   "outputs": [
    {
     "name": "stdout",
     "output_type": "stream",
     "text": [
      "Connection to PostgreSQL DB successful\n",
      "column  |  column2\n",
      "------------------------\n"
     ]
    }
   ],
   "source": [
    "import psycopg2\n",
    "\n",
    "# Database connection parameters\n",
    "host = \"localhost\"\n",
    "port = \"5432\"\n",
    "dbname = \"cos101_db\"\n",
    "user = \"postgres\"\n",
    "password = \"cos101\"\n",
    "\n",
    "# Establish the connection\n",
    "try:\n",
    "    connection = psycopg2.connect(\n",
    "        host=host,\n",
    "        port=port,\n",
    "        dbname=dbname,\n",
    "        user=user,\n",
    "        password=password\n",
    "    )\n",
    "    print(\"Connection to PostgreSQL DB successful\")\n",
    "\n",
    "    # Create a cursor object\n",
    "    cursor = connection.cursor()\n",
    "\n",
    "    # Define the SQL SELECT query\n",
    "    select_query = \"SELECT FROM company;\"\n",
    "\n",
    "    # Execute the query\n",
    "    cursor.execute(select_query)\n",
    "\n",
    "    # Fetch all rows from the executed query\n",
    "    data = cursor.fetchall()\n",
    "\n",
    "    print(\"column\", \" | \", \"column2\")\n",
    "    print(\"------------------------\")\n",
    "        \n",
    "    # Iterate through the rows and print them\n",
    "    for row in data:\n",
    "        print(f\"{row[0]}       |  {row[1]}\")\n",
    "\n",
    "    # Close the cursor and connection\n",
    "    cursor.close()\n",
    "    connection.close()\n",
    "\n",
    "except Exception as error:\n",
    "    print(f\"Error connecting to PostgreSQL DB: {error}\")\n"
   ]
  },
  {
   "cell_type": "markdown",
   "metadata": {},
   "source": [
    "# Create a new Database"
   ]
  },
  {
   "cell_type": "code",
   "execution_count": 40,
   "metadata": {},
   "outputs": [
    {
     "name": "stdout",
     "output_type": "stream",
     "text": [
      "Connection to PostgreSQL server successful\n",
      "Database 'cos102_db' created successfully\n"
     ]
    }
   ],
   "source": [
    "import psycopg2\n",
    "\n",
    "# Parameters to connect to the existing PostgreSQL server\n",
    "host = \"localhost\"\n",
    "port = \"5432\"\n",
    "dbname = \"postgres\"\n",
    "user = \"postgres\"\n",
    "password = \"cos101\"  # Connect to the default database\n",
    "\n",
    "# Name of the new database to be created\n",
    "new_dbname = \"cos102_db\"\n",
    "\n",
    "try:\n",
    "    # Connect to the PostgreSQL server\n",
    "    connection = psycopg2.connect(\n",
    "        host=host,\n",
    "        port=port,\n",
    "        dbname=dbname,\n",
    "        user=user,\n",
    "        password=password\n",
    "    )\n",
    "    connection.autocommit = True  # Enable autocommit mode\n",
    "    print(\"Connection to PostgreSQL server successful\")\n",
    "\n",
    "    # Create a cursor object\n",
    "    cursor = connection.cursor()\n",
    "\n",
    "    # Define the SQL statement to create a new database\n",
    "    create_db_query = f\"CREATE DATABASE {new_dbname}\"\n",
    "\n",
    "    # Execute the SQL statement\n",
    "    cursor.execute(create_db_query)\n",
    "    print(f\"Database '{new_dbname}' created successfully\")\n",
    "\n",
    "    # Close the cursor and connection\n",
    "    cursor.close()\n",
    "    connection.close()\n",
    "\n",
    "except Exception as error:\n",
    "    print(f\"Error creating the database: {error}\")\n"
   ]
  },
  {
   "cell_type": "markdown",
   "metadata": {},
   "source": [
    "# Create a Table"
   ]
  },
  {
   "cell_type": "code",
   "execution_count": 31,
   "metadata": {},
   "outputs": [
    {
     "name": "stdout",
     "output_type": "stream",
     "text": [
      "Connection to PostgreSQL DB successful\n",
      "Table created successfully @ cos102_db\n"
     ]
    }
   ],
   "source": [
    "import psycopg2\n",
    "\n",
    "# Database connection parameters\n",
    "host = \"localhost\"\n",
    "port = \"5432\"\n",
    "dbname = \"cos102_db\"\n",
    "user = \"postgres\"\n",
    "password = \"cos101\"\n",
    "\n",
    "try:\n",
    "    # Connect to the PostgreSQL database\n",
    "    connection = psycopg2.connect(\n",
    "        host=host,\n",
    "        port=port,\n",
    "        dbname=dbname,\n",
    "        user=user,\n",
    "        password=password\n",
    "    )\n",
    "    connection.autocommit = True  # Enable autocommit mode\n",
    "    \n",
    "    print(\"Connection to PostgreSQL DB successful\")\n",
    "\n",
    "    # Create a cursor object\n",
    "    cursor = connection.cursor()\n",
    "\n",
    "    # Define the SQL statement to create a new table\n",
    "    create_table_query = \"\"\"\n",
    "    CREATE TABLE sst_info (\n",
    "        id SERIAL PRIMARY KEY,\n",
    "        name VARCHAR(50) NOT NULL,\n",
    "        age INT NOT NULL,\n",
    "        department VARCHAR NOT NULL,\n",
    "        password VARCHAR NOT NULL\n",
    "    );\n",
    "    \"\"\"\n",
    "\n",
    "    # Execute the SQL statement\n",
    "    cursor.execute(create_table_query)\n",
    "    print(f\"Table created successfully @ {dbname}\")\n",
    "\n",
    "    # Close the cursor and connection\n",
    "    cursor.close()\n",
    "    connection.close()\n",
    "\n",
    "except Exception as error:\n",
    "    print(f\"Error creating table: {error}\") "
   ]
  },
  {
   "cell_type": "markdown",
   "metadata": {},
   "source": [
    "# INSERT into Table"
   ]
  },
  {
   "cell_type": "code",
   "execution_count": 32,
   "metadata": {},
   "outputs": [
    {
     "name": "stdout",
     "output_type": "stream",
     "text": [
      "Connection to PostgreSQL DB successful\n",
      "Data inserted successfully\n"
     ]
    }
   ],
   "source": [
    "import psycopg2\n",
    "\n",
    "# Database connection parameters\n",
    "host = \"localhost\"\n",
    "port = \"5432\"\n",
    "dbname = \"cos102_db\"\n",
    "user = \"postgres\"\n",
    "password = \"cos101\"\n",
    "\n",
    "try:\n",
    "    # Connect to the PostgreSQL database\n",
    "    connection = psycopg2.connect(\n",
    "        host=host,\n",
    "        port=port,\n",
    "        dbname=dbname,\n",
    "        user=user,\n",
    "        password=password\n",
    "    )\n",
    "    connection.autocommit = True  # Enable autocommit mode\n",
    "    print(\"Connection to PostgreSQL DB successful\")\n",
    "\n",
    "    # Create a cursor object\n",
    "    cursor = connection.cursor()\n",
    "\n",
    "    # Define the SQL INSERT statement\n",
    "    insert_query = \"\"\"\n",
    "        INSERT INTO sst_info (id, name, age, department, password)\n",
    "        VALUES (%s, %s, %s, %s, %s);\n",
    "    \"\"\"\n",
    "    \n",
    "    # Data to be inserted\n",
    "    data_to_insert = (1, \"Jamel Ojo\", 20, \"Software Engineering\", \"anthelo4\")\n",
    "\n",
    "    # Execute the SQL statement\n",
    "    cursor.execute(insert_query, data_to_insert)\n",
    "    print(\"Data inserted successfully\")\n",
    "\n",
    "    # Close the cursor and connection\n",
    "    cursor.close()\n",
    "    connection.close()\n",
    "\n",
    "except Exception as error:\n",
    "    print(f\"Error inserting data: {error}\")\n"
   ]
  },
  {
   "cell_type": "code",
   "execution_count": null,
   "metadata": {},
   "outputs": [],
   "source": []
  },
  {
   "cell_type": "markdown",
   "metadata": {},
   "source": [
    "# SELECT from Table"
   ]
  },
  {
   "cell_type": "code",
   "execution_count": 48,
   "metadata": {},
   "outputs": [
    {
     "name": "stdout",
     "output_type": "stream",
     "text": [
      "(1, 'Jamel Ojo', 20, 'Software Engineering', 'anthelo4')\n",
      "('Jamel Ojo', 20, 'Software Engineering')\n"
     ]
    }
   ],
   "source": [
    "import psycopg2\n",
    "\n",
    "# Define your database connection parameters\n",
    "db_params = {\n",
    "    'dbname': 'cos102_db',\n",
    "    'user': 'postgres',\n",
    "    'password': 'cos101',\n",
    "    'host': 'localhost',\n",
    "    'port': '5432'  # Default is '5432'\n",
    "}\n",
    "\n",
    "try:\n",
    "    # Establish a connection to the database\n",
    "    connection = psycopg2.connect(**db_params)\n",
    "    connection.autocommit = True\n",
    "\n",
    "    # Create a cursor object\n",
    "    cursor = connection.cursor()\n",
    "\n",
    "    # Define the SQL query\n",
    "    select_query = \"SELECT * FROM sst_info WHERE age < 30\"\n",
    "\n",
    "    # Execute the SQL query\n",
    "    cursor.execute(select_query)\n",
    "\n",
    "    # Fetch all the results\n",
    "    result = cursor.fetchall()\n",
    "\n",
    "    # Print the results\n",
    "    for row in result:\n",
    "        print(row)\n",
    "        print(row[1:4])\n",
    "\n",
    "except Exception as error:\n",
    "    print(f\"Error while connecting to PostgreSQL: {error}\")\n",
    "\n",
    "finally:\n",
    "    # Close the cursor and connection to clean up\n",
    "    if cursor:\n",
    "        cursor.close()\n",
    "    if connection:\n",
    "        connection.close()\n"
   ]
  },
  {
   "cell_type": "markdown",
   "metadata": {},
   "source": [
    "# Class Project I"
   ]
  },
  {
   "cell_type": "markdown",
   "metadata": {},
   "source": [
    "Paystack is a Nigerian financial technology company that offers payment processing services to businesses. As a technology company, Paystack solves payment problems for ambitious businesses. Its mission is to help businesses in Africa become profitable, envied, and loved. They make it easy for businesses to accept secure payments from multiple local and global payment channels. They also provide tools to help you retain and acquire new customers. Currently, Paystack is restructuring the team network. It is a diverse, close-knit team on an adventure to build something enduring while learning something new, every day. \n",
    "\n"
   ]
  },
  {
   "cell_type": "markdown",
   "metadata": {},
   "source": []
  },
  {
   "cell_type": "markdown",
   "metadata": {},
   "source": [
    "<img src=\"paystack.jpg\">"
   ]
  },
  {
   "cell_type": "markdown",
   "metadata": {},
   "source": [
    "With your knowledge in python programming develop an application that creates the database named <b>Paystack_Team</b>. <br>The purpose of the application is to enable management to perform the following queries:\n",
    "<ul>\n",
    "    <li>Team Members in Revenue Division</li>\n",
    "    <li>Team Members in Growth and Product Division whose age is greater than 30 years but less than 35 years</li>\n",
    "    <li>Team Members in Modules 1,3 and 5</li>\n",
    "    <li>Team Members in Modules 4 and Product Division</li>\n",
    "</ul>"
   ]
  },
  {
   "cell_type": "code",
   "execution_count": 39,
   "metadata": {},
   "outputs": [
    {
     "name": "stdout",
     "output_type": "stream",
     "text": [
      "Team Members in Revenue Division\n",
      "('Bolaji Akanje', 'Revenue', 30, 3)\n",
      "('Ijeoma Opara', 'Revenue', 26, 2)\n",
      "('Dapo Awobokun', 'Revenue', 35, 3)\n",
      "('Charles Idem', 'Revenue', 38, 1)\n",
      "\n",
      "\n",
      "Team Members in Growth and Product Division whose age is greater than 30 years but less than 35 years\n",
      "('Seike Ibojo', 'Growth', 33, 4)\n",
      "('Emmanuel Quartey', 'Growth', 31, 1)\n",
      "('Awatt Bassey', 'Growth', 32, 2)\n",
      "('King Makanjuola', 'Product', 31, 4)\n",
      "('Dipo Omobomi', 'Product', 32, 5)\n",
      "('Ayobami Alo', 'Product', 34, 4)\n",
      "\n",
      "\n",
      "Team Members in Modules 1, 3, and 5\n",
      "('Oyinda Aina', 'Business', 32, 1)\n",
      "('Wale Eseyin', 'Engineering', 28, 3)\n",
      "('Onyekachi Mbaike', 'Design', 37, 5)\n",
      "('Opemipo Aikomo', 'Design', 37, 5)\n",
      "('Ezra Olubi', 'Product', 30, 3)\n",
      "('Alexander Fasoro', 'Engineering', 35, 1)\n",
      "('Loknan Nanyak', 'Engineering', 44, 5)\n",
      "('Fisayo Kolawole', 'Commercial', 27, 5)\n",
      "('Emmanuel Quartey', 'Growth', 31, 1)\n",
      "('Bolaji Akanje', 'Revenue', 30, 3)\n",
      "('Mohin Ufeli', 'Growth', 29, 1)\n",
      "('Dipo Omobomi', 'Product', 32, 5)\n",
      "('Dapo Awobokun', 'Revenue', 35, 3)\n",
      "('Charles Idem', 'Revenue', 38, 1)\n",
      "\n",
      "\n",
      "Team Members in Modules 4 and Product Division\n",
      "('King Makanjuola', 'Product', 31, 4)\n",
      "('Ayobami Alo', 'Product', 34, 4)\n",
      "\n",
      "\n"
     ]
    }
   ],
   "source": [
    "import psycopg2\n",
    "\n",
    "# Define your database connection parameters\n",
    "db_params = {\n",
    "    'dbname': 'paystack_team',\n",
    "    'user': 'postgres',\n",
    "    'password': 'cos101',\n",
    "    'host': 'localhost',\n",
    "    'port': '5432'  # Default is '5432'\n",
    "}\n",
    "\n",
    "try:\n",
    "    connection = psycopg2.connect(**db_params)\n",
    "    cursor = connection.cursor()\n",
    "    connection.autocommit = True\n",
    "\n",
    "    # Correct SQL queries\n",
    "    select_revenuediv = \"SELECT * FROM team WHERE division = 'Revenue'\"\n",
    "    select_age_and_2div = \"\"\"\n",
    "        SELECT * FROM team \n",
    "        WHERE age > 30 AND age < 35 AND (division = 'Growth' OR division = 'Product')\n",
    "    \"\"\"\n",
    "    select_module = \"SELECT * FROM team WHERE module IN (1, 3, 5)\"\n",
    "    select_module_and_div = \"SELECT * FROM team WHERE division = 'Product' AND module = 4\"\n",
    "\n",
    "    # Execute and print results for team members in Revenue division\n",
    "    print(\"Team Members in Revenue Division\")\n",
    "    cursor.execute(select_revenuediv)\n",
    "    result = cursor.fetchall()\n",
    "    for row in result:\n",
    "        print(row)\n",
    "    print(\"\\n\")\n",
    "\n",
    "    # Execute and print results for team members in Growth and Product divisions whose age is >30 and <35\n",
    "    print(\"Team Members in Growth and Product Division whose age is greater than 30 years but less than 35 years\")\n",
    "    cursor.execute(select_age_and_2div)\n",
    "    result0 = cursor.fetchall()\n",
    "    for row in result0:\n",
    "        print(row)\n",
    "    print(\"\\n\")\n",
    "\n",
    "    # Execute and print results for team members in Modules 1, 3, and 5\n",
    "    print(\"Team Members in Modules 1, 3, and 5\")\n",
    "    cursor.execute(select_module)\n",
    "    result1 = cursor.fetchall()\n",
    "    for row in result1:\n",
    "        print(row)\n",
    "    print(\"\\n\")\n",
    "\n",
    "    # Execute and print results for team members in Module 4 and Product division\n",
    "    print(\"Team Members in Modules 4 and Product Division\")\n",
    "    cursor.execute(select_module_and_div)\n",
    "    result2 = cursor.fetchall()\n",
    "    for row in result2:\n",
    "        print(row)\n",
    "    print(\"\\n\")\n",
    "\n",
    "    cursor.close()\n",
    "    connection.close()\n",
    "except Exception as error:\n",
    "    print(f\"Error Connecting to Database: {error}\")\n"
   ]
  },
  {
   "cell_type": "code",
   "execution_count": 36,
   "metadata": {},
   "outputs": [
    {
     "name": "stdout",
     "output_type": "stream",
     "text": [
      "Error Connecting to Database: relation \"team\" already exists\n",
      "\n"
     ]
    }
   ],
   "source": [
    "import psycopg2\n",
    "#creating db\n",
    "\n",
    "# Define your database connection parameters\n",
    "db_params = {\n",
    "    'dbname': 'paystack_team',\n",
    "    'user': 'postgres',\n",
    "    'password': 'cos101',\n",
    "    'host': 'localhost',\n",
    "    'port': '5432'  # Default is '5432'\n",
    "}\n",
    "\n",
    "try:\n",
    "    connection = psycopg2.connect(**db_params)\n",
    "    connection.autocommit = True\n",
    "    cursor = connection.cursor()\n",
    "    \n",
    "    \n",
    "    # create table and insert\n",
    "    create_table = \"\"\"\n",
    "    CREATE TABLE team (\n",
    "        name VARCHAR(50) NOT NULL, \n",
    "        division VARCHAR NOT NULL,\n",
    "        age INT NOT NULL,\n",
    "        module INT NOT NULL\n",
    "    );\n",
    "    \"\"\"\n",
    "    cursor.execute(create_table)\n",
    "\n",
    "    cursor.execute(insert_to_table, data_insert)\n",
    "    print(f\"Created and inserted data to table: team\")\n",
    "\n",
    "    \n",
    "\n",
    "    \n",
    "    \n",
    "    cursor.close()\n",
    "    connection.close()\n",
    "except Exception as error: \n",
    "    print(f\"Error Connecting to Database: {error}\")"
   ]
  },
  {
   "cell_type": "code",
   "execution_count": 37,
   "metadata": {},
   "outputs": [
    {
     "name": "stdout",
     "output_type": "stream",
     "text": [
      "Connection to PostgreSQL DB successful\n",
      "Inserted to table\n",
      "Created and inserted data to table: team\n"
     ]
    }
   ],
   "source": [
    "#inserting to table\n",
    "import psycopg2\n",
    "\n",
    "# Define your database connection parameters\n",
    "db_params = {\n",
    "    'dbname': 'paystack_team',\n",
    "    'user': 'postgres',\n",
    "    'password': 'cos101',\n",
    "    'host': 'localhost',\n",
    "    'port': '5432'  # Default is '5432'\n",
    "}\n",
    "# new_dbname = \"Paystack_Team\"\n",
    "\n",
    "try:\n",
    "    connection = psycopg2.connect(**db_params)\n",
    "    connection.autocommit = True\n",
    "    cursor = connection.cursor()\n",
    "    print(\"Connection to PostgreSQL DB successful\")\n",
    "\n",
    "    insert_to_table = \"\"\"\n",
    "        INSERT INTO team (name, division, age, module)\n",
    "        VALUES (%s,%s,%s,%s);\n",
    "        \"\"\"\n",
    "        \n",
    "    data_insert = [\n",
    "    (\"Oyinda Aina\", \"Business\", 32, 1),\n",
    "    (\"Wale Eseyin\", \"Engineering\", 28, 3),\n",
    "    (\"Khadija Abu\", \"Product\", 30, 2),\n",
    "    (\"Onyekachi Mbaike\", \"Design\", 37, 5),\n",
    "    (\"Seike Ibojo\", \"Growth\", 33, 4),\n",
    "    (\"Opemipo Aikomo\", \"Design\", 37, 5),\n",
    "    (\"Ezra Olubi\", \"Product\", 30, 3),\n",
    "    (\"Alexander Fasoro\", \"Engineering\", 35, 1),\n",
    "    (\"Stephen Amaza\", \"Growth\", 40, 2),\n",
    "    (\"Loknan Nanyak\", \"Engineering\", 44, 5),\n",
    "    (\"Ibrahim Lawal\", \"Engineering\", 39, 4),\n",
    "    (\"Fisayo Kolawole\", \"Commercial\", 27, 5),\n",
    "    (\"Emmanuel Quartey\", \"Growth\", 31, 1),\n",
    "    (\"Awatt Bassey\", \"Growth\", 32, 2),\n",
    "    (\"Bolaji Akanje\", \"Revenue\", 30, 3),\n",
    "    (\"Mohin Ufeli\", \"Growth\", 29, 1),\n",
    "    (\"King Makanjuola\", \"Product\", 31, 4),\n",
    "    (\"Ijeoma Opara\", \"Revenue\", 26, 2),\n",
    "    (\"Dipo Omobomi\", \"Product\", 32, 5),\n",
    "    (\"Dapo Awobokun\", \"Revenue\", 35, 3),\n",
    "    (\"Charles Idem\", \"Revenue\", 38, 1),\n",
    "    (\"Ayobami Alo\", \"Product\", 34, 4),\n",
    "    (\"Aminat Badara\", \"Growth\", 30, 2)\n",
    "    ]\n",
    "    print(\"Inserted to table\")\n",
    "        #added to table\n",
    "    cursor.executemany(insert_to_table, data_insert)\n",
    "    print(f\"Created and inserted data to table: team\")\n",
    "\n",
    "    \n",
    "\n",
    "    \n",
    "    \n",
    "    cursor.close()\n",
    "    connection.close()\n",
    "except Exception as error: \n",
    "    print(f\"Error Connecting to Database: {error}\")"
   ]
  },
  {
   "cell_type": "code",
   "execution_count": 51,
   "metadata": {},
   "outputs": [
    {
     "name": "stdout",
     "output_type": "stream",
     "text": [
      "Team Members in Revenue Division\n",
      "('Bolaji Akanje', 'Revenue', 30, 3)\n",
      "('Ijeoma Opara', 'Revenue', 26, 2)\n",
      "('Dapo Awobokun', 'Revenue', 35, 3)\n",
      "('Charles Idem', 'Revenue', 38, 1)\n",
      "\n",
      "\n",
      "Team Members in Growth and Product Division whose age is greater than 30 years but less than 35 years\n",
      "('Seike Ibojo', 'Growth', 33, 4)\n",
      "('Emmanuel Quartey', 'Growth', 31, 1)\n",
      "('Awatt Bassey', 'Growth', 32, 2)\n",
      "('King Makanjuola', 'Product', 31, 4)\n",
      "('Dipo Omobomi', 'Product', 32, 5)\n",
      "('Ayobami Alo', 'Product', 34, 4)\n",
      "\n",
      "\n",
      "Team Members in Modules 1, 3, and 5\n",
      "('Oyinda Aina', 'Business', 32, 1)\n",
      "('Wale Eseyin', 'Engineering', 28, 3)\n",
      "('Onyekachi Mbaike', 'Design', 37, 5)\n",
      "('Opemipo Aikomo', 'Design', 37, 5)\n",
      "('Ezra Olubi', 'Product', 30, 3)\n",
      "('Alexander Fasoro', 'Engineering', 35, 1)\n",
      "('Loknan Nanyak', 'Engineering', 44, 5)\n",
      "('Fisayo Kolawole', 'Commercial', 27, 5)\n",
      "('Emmanuel Quartey', 'Growth', 31, 1)\n",
      "('Bolaji Akanje', 'Revenue', 30, 3)\n",
      "('Mohin Ufeli', 'Growth', 29, 1)\n",
      "('Dipo Omobomi', 'Product', 32, 5)\n",
      "('Dapo Awobokun', 'Revenue', 35, 3)\n",
      "('Charles Idem', 'Revenue', 38, 1)\n",
      "\n",
      "\n",
      "Team Members in Modules 4 and Product Division\n",
      "('King Makanjuola', 'Product', 31, 4)\n",
      "('Ayobami Alo', 'Product', 34, 4)\n",
      "\n",
      "\n"
     ]
    }
   ],
   "source": [
    "import psycopg2\n",
    "\n",
    "# Define your database connection parameters\n",
    "db_params = {\n",
    "    'dbname': 'paystack_team',\n",
    "    'user': 'postgres',\n",
    "    'password': 'cos101',\n",
    "    'host': 'localhost',\n",
    "    'port': '5432'  # Default is '5432'\n",
    "}\n",
    "\n",
    "try:\n",
    "    connection = psycopg2.connect(**db_params)\n",
    "    cursor = connection.cursor()\n",
    "    connection.autocommit = True\n",
    "\n",
    "\n",
    "    select_revenuediv = \"SELECT * FROM team WHERE division = 'Revenue'\"\n",
    "    select_age_and_2div = \"\"\"\n",
    "        SELECT * FROM team \n",
    "        WHERE age > 30 AND age < 35 AND (division = 'Growth' OR division = 'Product')\n",
    "    \"\"\"\n",
    "    select_module = \"SELECT * FROM team WHERE module IN (1, 3, 5)\"\n",
    "    select_module_and_div = \"SELECT * FROM team WHERE division = 'Product' AND module = 4\"\n",
    "\n",
    "    # Execute and print results for team members in Revenue division\n",
    "    print(\"Team Members in Revenue Division\")\n",
    "    cursor.execute(select_revenuediv)\n",
    "    result = cursor.fetchall()\n",
    "    for row in result:\n",
    "        print(row)\n",
    "    print(\"\\n\")\n",
    "\n",
    "    print(\"Team Members in Growth and Product Division whose age is greater than 30 years but less than 35 years\")\n",
    "    cursor.execute(select_age_and_2div)\n",
    "    result0 = cursor.fetchall()\n",
    "    for row in result0:\n",
    "        print(row)\n",
    "    print(\"\\n\")\n",
    "\n",
    "\n",
    "    print(\"Team Members in Modules 1, 3, and 5\")\n",
    "    cursor.execute(select_module)\n",
    "    result1 = cursor.fetchall()\n",
    "    for row in result1:\n",
    "        print(row)\n",
    "    print(\"\\n\")\n",
    "\n",
    "\n",
    "    print(\"Team Members in Modules 4 and Product Division\")\n",
    "    cursor.execute(select_module_and_div)\n",
    "    result2 = cursor.fetchall()\n",
    "    for row in result2:            \n",
    "        print(row)\n",
    "    print(\"\\n\")\n",
    "\n",
    "    cursor.close()\n",
    "    connection.close()\n",
    "except Exception as error:\n",
    "    print(f\"Error Connecting to Database: {error}\")\n"
   ]
  },
  {
   "cell_type": "markdown",
   "metadata": {},
   "source": [
    "<img src=\"paystack.jpg\">"
   ]
  }
 ],
 "metadata": {
  "kernelspec": {
   "display_name": "Python 3",
   "language": "python",
   "name": "python3"
  },
  "language_info": {
   "codemirror_mode": {
    "name": "ipython",
    "version": 3
   },
   "file_extension": ".py",
   "mimetype": "text/x-python",
   "name": "python",
   "nbconvert_exporter": "python",
   "pygments_lexer": "ipython3",
   "version": "3.11.9"
  }
 },
 "nbformat": 4,
 "nbformat_minor": 4
}
